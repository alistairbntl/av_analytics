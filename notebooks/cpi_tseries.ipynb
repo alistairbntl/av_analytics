{
 "cells": [
  {
   "cell_type": "code",
   "execution_count": 1,
   "id": "77ae5cd3",
   "metadata": {},
   "outputs": [],
   "source": [
    "%load_ext autoreload\n",
    "%autoreload 2"
   ]
  },
  {
   "cell_type": "code",
   "execution_count": 2,
   "id": "7889d7a1",
   "metadata": {},
   "outputs": [],
   "source": [
    "import data_collector as dc\n",
    "import numpy as np"
   ]
  },
  {
   "cell_type": "code",
   "execution_count": 3,
   "id": "8fcf5fc4",
   "metadata": {},
   "outputs": [],
   "source": [
    "# create a list of the data-series we'd like to upload\n",
    "\n",
    "# note: we're creating a python dictionary with key:value pairs that include a description of the index\n",
    "data_series_dict = {'CUSR0000SA0': 'all_item', \n",
    "                    'CUSR0000SA0L1E': 'all_item_less_food_energy',\n",
    "                    'CUSR0000SETA02': 'used_cars_and_trucks'}"
   ]
  },
  {
   "cell_type": "code",
   "execution_count": 24,
   "id": "aa88b567",
   "metadata": {},
   "outputs": [
    {
     "name": "stdout",
     "output_type": "stream",
     "text": [
      "sending post request...\n",
      "processing data from post request...\n",
      "returning data...\n"
     ]
    }
   ],
   "source": [
    "bls_collector = dc.BLS_DataCollector()\n",
    "df_ = bls_collector.get_df(list(data_series_dict.keys()), 2016, 2020)"
   ]
  },
  {
   "cell_type": "code",
   "execution_count": 25,
   "id": "206ad7bd",
   "metadata": {},
   "outputs": [
    {
     "data": {
      "text/html": [
       "<div>\n",
       "<style scoped>\n",
       "    .dataframe tbody tr th:only-of-type {\n",
       "        vertical-align: middle;\n",
       "    }\n",
       "\n",
       "    .dataframe tbody tr th {\n",
       "        vertical-align: top;\n",
       "    }\n",
       "\n",
       "    .dataframe thead tr th {\n",
       "        text-align: left;\n",
       "    }\n",
       "\n",
       "    .dataframe thead tr:last-of-type th {\n",
       "        text-align: right;\n",
       "    }\n",
       "</style>\n",
       "<table border=\"1\" class=\"dataframe\">\n",
       "  <thead>\n",
       "    <tr>\n",
       "      <th>data</th>\n",
       "      <th>value</th>\n",
       "      <th>footnotes</th>\n",
       "      <th>value</th>\n",
       "      <th>footnotes</th>\n",
       "      <th>value</th>\n",
       "      <th>footnotes</th>\n",
       "    </tr>\n",
       "    <tr>\n",
       "      <th>seriesID</th>\n",
       "      <th>CUSR0000SA0</th>\n",
       "      <th>CUSR0000SA0</th>\n",
       "      <th>CUSR0000SA0L1E</th>\n",
       "      <th>CUSR0000SA0L1E</th>\n",
       "      <th>CUSR0000SETA02</th>\n",
       "      <th>CUSR0000SETA02</th>\n",
       "    </tr>\n",
       "    <tr>\n",
       "      <th>dates</th>\n",
       "      <th></th>\n",
       "      <th></th>\n",
       "      <th></th>\n",
       "      <th></th>\n",
       "      <th></th>\n",
       "      <th></th>\n",
       "    </tr>\n",
       "  </thead>\n",
       "  <tbody>\n",
       "    <tr>\n",
       "      <th>2020-12-01</th>\n",
       "      <td>261.564</td>\n",
       "      <td>[{}]</td>\n",
       "      <td>269.984</td>\n",
       "      <td>[{}]</td>\n",
       "      <td>153.041</td>\n",
       "      <td>[{}]</td>\n",
       "    </tr>\n",
       "    <tr>\n",
       "      <th>2020-11-01</th>\n",
       "      <td>260.721</td>\n",
       "      <td>[{}]</td>\n",
       "      <td>269.816</td>\n",
       "      <td>[{}]</td>\n",
       "      <td>154.739</td>\n",
       "      <td>[{}]</td>\n",
       "    </tr>\n",
       "    <tr>\n",
       "      <th>2020-10-01</th>\n",
       "      <td>260.352</td>\n",
       "      <td>[{}]</td>\n",
       "      <td>269.332</td>\n",
       "      <td>[{}]</td>\n",
       "      <td>156.986</td>\n",
       "      <td>[{}]</td>\n",
       "    </tr>\n",
       "    <tr>\n",
       "      <th>2020-09-01</th>\n",
       "      <td>260.190</td>\n",
       "      <td>[{}]</td>\n",
       "      <td>269.152</td>\n",
       "      <td>[{}]</td>\n",
       "      <td>155.629</td>\n",
       "      <td>[{}]</td>\n",
       "    </tr>\n",
       "    <tr>\n",
       "      <th>2020-08-01</th>\n",
       "      <td>259.580</td>\n",
       "      <td>[{}]</td>\n",
       "      <td>268.662</td>\n",
       "      <td>[{}]</td>\n",
       "      <td>147.599</td>\n",
       "      <td>[{}]</td>\n",
       "    </tr>\n",
       "  </tbody>\n",
       "</table>\n",
       "</div>"
      ],
      "text/plain": [
       "data             value   footnotes          value      footnotes  \\\n",
       "seriesID   CUSR0000SA0 CUSR0000SA0 CUSR0000SA0L1E CUSR0000SA0L1E   \n",
       "dates                                                              \n",
       "2020-12-01     261.564        [{}]        269.984           [{}]   \n",
       "2020-11-01     260.721        [{}]        269.816           [{}]   \n",
       "2020-10-01     260.352        [{}]        269.332           [{}]   \n",
       "2020-09-01     260.190        [{}]        269.152           [{}]   \n",
       "2020-08-01     259.580        [{}]        268.662           [{}]   \n",
       "\n",
       "data                value      footnotes  \n",
       "seriesID   CUSR0000SETA02 CUSR0000SETA02  \n",
       "dates                                     \n",
       "2020-12-01        153.041           [{}]  \n",
       "2020-11-01        154.739           [{}]  \n",
       "2020-10-01        156.986           [{}]  \n",
       "2020-09-01        155.629           [{}]  \n",
       "2020-08-01        147.599           [{}]  "
      ]
     },
     "execution_count": 25,
     "metadata": {},
     "output_type": "execute_result"
    }
   ],
   "source": [
    "df_.head()"
   ]
  },
  {
   "cell_type": "code",
   "execution_count": 26,
   "id": "d808c6aa",
   "metadata": {},
   "outputs": [],
   "source": [
    "col_headers = ['log_ret', 'perc_chg']\n",
    "\n",
    "def get_column_names(col_name):\n",
    "    return [(col_name, sym) for sym in data_series_dict.keys()]\n",
    "\n",
    "new_col_idx = {col_name: get_column_names(col_name) for col_name in col_headers}\n",
    "\n",
    "df_[new_col_idx['log_ret']] = np.log(df_['value'] / df_['value'].shift(1))\n",
    "df_[new_col_idx['perc_chg']] = df_['value'] / df_['value'].shift(1) -1 "
   ]
  },
  {
   "cell_type": "code",
   "execution_count": 27,
   "id": "83f63b1a",
   "metadata": {},
   "outputs": [
    {
     "data": {
      "text/html": [
       "<div>\n",
       "<style scoped>\n",
       "    .dataframe tbody tr th:only-of-type {\n",
       "        vertical-align: middle;\n",
       "    }\n",
       "\n",
       "    .dataframe tbody tr th {\n",
       "        vertical-align: top;\n",
       "    }\n",
       "\n",
       "    .dataframe thead tr th {\n",
       "        text-align: left;\n",
       "    }\n",
       "\n",
       "    .dataframe thead tr:last-of-type th {\n",
       "        text-align: right;\n",
       "    }\n",
       "</style>\n",
       "<table border=\"1\" class=\"dataframe\">\n",
       "  <thead>\n",
       "    <tr>\n",
       "      <th>data</th>\n",
       "      <th>value</th>\n",
       "      <th>footnotes</th>\n",
       "      <th>value</th>\n",
       "      <th>footnotes</th>\n",
       "      <th>value</th>\n",
       "      <th>footnotes</th>\n",
       "      <th colspan=\"3\" halign=\"left\">log_ret</th>\n",
       "      <th colspan=\"3\" halign=\"left\">perc_chg</th>\n",
       "    </tr>\n",
       "    <tr>\n",
       "      <th>seriesID</th>\n",
       "      <th>CUSR0000SA0</th>\n",
       "      <th>CUSR0000SA0</th>\n",
       "      <th>CUSR0000SA0L1E</th>\n",
       "      <th>CUSR0000SA0L1E</th>\n",
       "      <th>CUSR0000SETA02</th>\n",
       "      <th>CUSR0000SETA02</th>\n",
       "      <th>CUSR0000SA0</th>\n",
       "      <th>CUSR0000SA0L1E</th>\n",
       "      <th>CUSR0000SETA02</th>\n",
       "      <th>CUSR0000SA0</th>\n",
       "      <th>CUSR0000SA0L1E</th>\n",
       "      <th>CUSR0000SETA02</th>\n",
       "    </tr>\n",
       "    <tr>\n",
       "      <th>dates</th>\n",
       "      <th></th>\n",
       "      <th></th>\n",
       "      <th></th>\n",
       "      <th></th>\n",
       "      <th></th>\n",
       "      <th></th>\n",
       "      <th></th>\n",
       "      <th></th>\n",
       "      <th></th>\n",
       "      <th></th>\n",
       "      <th></th>\n",
       "      <th></th>\n",
       "    </tr>\n",
       "  </thead>\n",
       "  <tbody>\n",
       "    <tr>\n",
       "      <th>2020-12-01</th>\n",
       "      <td>261.564</td>\n",
       "      <td>[{}]</td>\n",
       "      <td>269.984</td>\n",
       "      <td>[{}]</td>\n",
       "      <td>153.041</td>\n",
       "      <td>[{}]</td>\n",
       "      <td>NaN</td>\n",
       "      <td>NaN</td>\n",
       "      <td>NaN</td>\n",
       "      <td>NaN</td>\n",
       "      <td>NaN</td>\n",
       "      <td>NaN</td>\n",
       "    </tr>\n",
       "    <tr>\n",
       "      <th>2020-11-01</th>\n",
       "      <td>260.721</td>\n",
       "      <td>[{}]</td>\n",
       "      <td>269.816</td>\n",
       "      <td>[{}]</td>\n",
       "      <td>154.739</td>\n",
       "      <td>[{}]</td>\n",
       "      <td>-0.003228</td>\n",
       "      <td>-0.000622</td>\n",
       "      <td>0.011034</td>\n",
       "      <td>-0.003223</td>\n",
       "      <td>-0.000622</td>\n",
       "      <td>0.011095</td>\n",
       "    </tr>\n",
       "    <tr>\n",
       "      <th>2020-10-01</th>\n",
       "      <td>260.352</td>\n",
       "      <td>[{}]</td>\n",
       "      <td>269.332</td>\n",
       "      <td>[{}]</td>\n",
       "      <td>156.986</td>\n",
       "      <td>[{}]</td>\n",
       "      <td>-0.001416</td>\n",
       "      <td>-0.001795</td>\n",
       "      <td>0.014417</td>\n",
       "      <td>-0.001415</td>\n",
       "      <td>-0.001794</td>\n",
       "      <td>0.014521</td>\n",
       "    </tr>\n",
       "    <tr>\n",
       "      <th>2020-09-01</th>\n",
       "      <td>260.190</td>\n",
       "      <td>[{}]</td>\n",
       "      <td>269.152</td>\n",
       "      <td>[{}]</td>\n",
       "      <td>155.629</td>\n",
       "      <td>[{}]</td>\n",
       "      <td>-0.000622</td>\n",
       "      <td>-0.000669</td>\n",
       "      <td>-0.008682</td>\n",
       "      <td>-0.000622</td>\n",
       "      <td>-0.000668</td>\n",
       "      <td>-0.008644</td>\n",
       "    </tr>\n",
       "    <tr>\n",
       "      <th>2020-08-01</th>\n",
       "      <td>259.580</td>\n",
       "      <td>[{}]</td>\n",
       "      <td>268.662</td>\n",
       "      <td>[{}]</td>\n",
       "      <td>147.599</td>\n",
       "      <td>[{}]</td>\n",
       "      <td>-0.002347</td>\n",
       "      <td>-0.001822</td>\n",
       "      <td>-0.052976</td>\n",
       "      <td>-0.002344</td>\n",
       "      <td>-0.001821</td>\n",
       "      <td>-0.051597</td>\n",
       "    </tr>\n",
       "  </tbody>\n",
       "</table>\n",
       "</div>"
      ],
      "text/plain": [
       "data             value   footnotes          value      footnotes  \\\n",
       "seriesID   CUSR0000SA0 CUSR0000SA0 CUSR0000SA0L1E CUSR0000SA0L1E   \n",
       "dates                                                              \n",
       "2020-12-01     261.564        [{}]        269.984           [{}]   \n",
       "2020-11-01     260.721        [{}]        269.816           [{}]   \n",
       "2020-10-01     260.352        [{}]        269.332           [{}]   \n",
       "2020-09-01     260.190        [{}]        269.152           [{}]   \n",
       "2020-08-01     259.580        [{}]        268.662           [{}]   \n",
       "\n",
       "data                value      footnotes     log_ret                 \\\n",
       "seriesID   CUSR0000SETA02 CUSR0000SETA02 CUSR0000SA0 CUSR0000SA0L1E   \n",
       "dates                                                                 \n",
       "2020-12-01        153.041           [{}]         NaN            NaN   \n",
       "2020-11-01        154.739           [{}]   -0.003228      -0.000622   \n",
       "2020-10-01        156.986           [{}]   -0.001416      -0.001795   \n",
       "2020-09-01        155.629           [{}]   -0.000622      -0.000669   \n",
       "2020-08-01        147.599           [{}]   -0.002347      -0.001822   \n",
       "\n",
       "data                         perc_chg                                \n",
       "seriesID   CUSR0000SETA02 CUSR0000SA0 CUSR0000SA0L1E CUSR0000SETA02  \n",
       "dates                                                                \n",
       "2020-12-01            NaN         NaN            NaN            NaN  \n",
       "2020-11-01       0.011034   -0.003223      -0.000622       0.011095  \n",
       "2020-10-01       0.014417   -0.001415      -0.001794       0.014521  \n",
       "2020-09-01      -0.008682   -0.000622      -0.000668      -0.008644  \n",
       "2020-08-01      -0.052976   -0.002344      -0.001821      -0.051597  "
      ]
     },
     "execution_count": 27,
     "metadata": {},
     "output_type": "execute_result"
    }
   ],
   "source": [
    "df_.head()"
   ]
  },
  {
   "cell_type": "code",
   "execution_count": 29,
   "id": "42e8cdca",
   "metadata": {},
   "outputs": [
    {
     "data": {
      "text/plain": [
       "<AxesSubplot:xlabel='dates'>"
      ]
     },
     "execution_count": 29,
     "metadata": {},
     "output_type": "execute_result"
    },
    {
     "data": {
      "image/png": "[encoded data removed]",
      "text/plain": [
       "<Figure size 640x480 with 1 Axes>"
      ]
     },
     "metadata": {},
     "output_type": "display_data"
    }
   ],
   "source": [
    "df_['log_ret'].rename(columns=data_series_dict).plot()"
   ]
  },
  {
   "cell_type": "code",
   "execution_count": 52,
   "id": "2fbb2405",
   "metadata": {},
   "outputs": [],
   "source": [
    "from statsmodels.tsa.ar_model import AutoReg\n",
    "from statsmodels.tsa.stattools import adfuller\n",
    "from statsmodels.graphics.tsaplots import plot_pacf\n",
    "from matplotlib import pyplot"
   ]
  },
  {
   "cell_type": "code",
   "execution_count": 43,
   "id": "d93a66a6",
   "metadata": {},
   "outputs": [],
   "source": [
    "df_original = df_.copy()\n",
    "df_ = df_.rename(columns=data_series_dict)\n",
    "df_ = df_.iloc[1:]"
   ]
  },
  {
   "cell_type": "code",
   "execution_count": 60,
   "id": "92cfc5ea",
   "metadata": {},
   "outputs": [],
   "source": [
    "df_1 = df_['log_ret']['all_item']"
   ]
  },
  {
   "cell_type": "code",
   "execution_count": 61,
   "id": "227ce0a1",
   "metadata": {},
   "outputs": [
    {
     "data": {
      "text/plain": [
       "(-5.963936397843156,\n",
       " 2.0084746587280916e-07,\n",
       " 1,\n",
       " 56,\n",
       " {'1%': -3.552928203580539,\n",
       "  '5%': -2.9147306250000002,\n",
       "  '10%': -2.595137155612245},\n",
       " -467.73821569179654)"
      ]
     },
     "execution_count": 61,
     "metadata": {},
     "output_type": "execute_result"
    }
   ],
   "source": [
    "adfuller(df_1, autolag='AIC')"
   ]
  },
  {
   "cell_type": "code",
   "execution_count": null,
   "id": "6736bd35",
   "metadata": {},
   "outputs": [],
   "source": [
    "# small p-value (index=1) suggests data series is in fact stationary!"
   ]
  },
  {
   "cell_type": "code",
   "execution_count": 62,
   "id": "f3442569",
   "metadata": {},
   "outputs": [
    {
     "data": {
      "image/png": "[encoded data removed]",
      "text/plain": [
       "<Figure size 640x480 with 1 Axes>"
      ]
     },
     "metadata": {},
     "output_type": "display_data"
    }
   ],
   "source": [
    "pacf = plot_pacf(df_1, method='ywm')"
   ]
  },
  {
   "cell_type": "code",
   "execution_count": 211,
   "id": "66c37ac2",
   "metadata": {},
   "outputs": [],
   "source": [
    "test_size = 10"
   ]
  },
  {
   "cell_type": "code",
   "execution_count": 212,
   "id": "6d8997ea",
   "metadata": {},
   "outputs": [],
   "source": [
    "train_series = df_1[test_size:]\n",
    "test_series = df_1[:test_size]"
   ]
  },
  {
   "cell_type": "code",
   "execution_count": 224,
   "id": "77c56966",
   "metadata": {},
   "outputs": [
    {
     "name": "stdout",
     "output_type": "stream",
     "text": [
      "0 -486.23679962776396\n",
      "1 -475.20325755214157\n",
      "2 -465.7382156917965\n",
      "3 -453.7362690293279\n"
     ]
    },
    {
     "name": "stderr",
     "output_type": "stream",
     "text": [
      "/home/alistair/anaconda3/lib/python3.7/site-packages/statsmodels/tsa/base/tsa_model.py:471: ValueWarning: No frequency information was provided, so inferred frequency -1MS will be used.\n",
      "  self._init_dates(dates, freq)\n",
      "/home/alistair/anaconda3/lib/python3.7/site-packages/statsmodels/tsa/base/tsa_model.py:471: ValueWarning: A date index has been provided, but it is not monotonic and so will be ignored when e.g. forecasting.\n",
      "  self._init_dates(dates, freq)\n",
      "/home/alistair/anaconda3/lib/python3.7/site-packages/statsmodels/tsa/base/tsa_model.py:471: ValueWarning: No frequency information was provided, so inferred frequency -1MS will be used.\n",
      "  self._init_dates(dates, freq)\n",
      "/home/alistair/anaconda3/lib/python3.7/site-packages/statsmodels/tsa/base/tsa_model.py:471: ValueWarning: A date index has been provided, but it is not monotonic and so will be ignored when e.g. forecasting.\n",
      "  self._init_dates(dates, freq)\n",
      "/home/alistair/anaconda3/lib/python3.7/site-packages/statsmodels/tsa/base/tsa_model.py:471: ValueWarning: No frequency information was provided, so inferred frequency -1MS will be used.\n",
      "  self._init_dates(dates, freq)\n",
      "/home/alistair/anaconda3/lib/python3.7/site-packages/statsmodels/tsa/base/tsa_model.py:471: ValueWarning: A date index has been provided, but it is not monotonic and so will be ignored when e.g. forecasting.\n",
      "  self._init_dates(dates, freq)\n",
      "/home/alistair/anaconda3/lib/python3.7/site-packages/statsmodels/tsa/base/tsa_model.py:471: ValueWarning: No frequency information was provided, so inferred frequency -1MS will be used.\n",
      "  self._init_dates(dates, freq)\n",
      "/home/alistair/anaconda3/lib/python3.7/site-packages/statsmodels/tsa/base/tsa_model.py:471: ValueWarning: A date index has been provided, but it is not monotonic and so will be ignored when e.g. forecasting.\n",
      "  self._init_dates(dates, freq)\n"
     ]
    }
   ],
   "source": [
    "for i in range(4):\n",
    "    ar_model = AutoReg(train_series, lags = i).fit()\n",
    "    print(i, ar_model.aic)"
   ]
  },
  {
   "cell_type": "code",
   "execution_count": 225,
   "id": "68aba5b0",
   "metadata": {},
   "outputs": [
    {
     "name": "stderr",
     "output_type": "stream",
     "text": [
      "/home/alistair/anaconda3/lib/python3.7/site-packages/statsmodels/tsa/base/tsa_model.py:471: ValueWarning: No frequency information was provided, so inferred frequency -1MS will be used.\n",
      "  self._init_dates(dates, freq)\n",
      "/home/alistair/anaconda3/lib/python3.7/site-packages/statsmodels/tsa/base/tsa_model.py:471: ValueWarning: A date index has been provided, but it is not monotonic and so will be ignored when e.g. forecasting.\n",
      "  self._init_dates(dates, freq)\n"
     ]
    }
   ],
   "source": [
    "# suggests i=0 is best model, will use i=1 for fun\n",
    "ar_model = AutoReg(train_series, lags = 1).fit()"
   ]
  },
  {
   "cell_type": "code",
   "execution_count": 226,
   "id": "e09afa2c",
   "metadata": {},
   "outputs": [
    {
     "data": {
      "text/html": [
       "<table class=\"simpletable\">\n",
       "<caption>AutoReg Model Results</caption>\n",
       "<tr>\n",
       "  <th>Dep. Variable:</th>     <td>all_item</td>     <th>  No. Observations:  </th>    <td>48</td>   \n",
       "</tr>\n",
       "<tr>\n",
       "  <th>Model:</th>            <td>AutoReg(1)</td>    <th>  Log Likelihood     </th>  <td>240.602</td>\n",
       "</tr>\n",
       "<tr>\n",
       "  <th>Method:</th>         <td>Conditional MLE</td> <th>  S.D. of innovations</th>   <td>0.001</td> \n",
       "</tr>\n",
       "<tr>\n",
       "  <th>Date:</th>          <td>Tue, 20 Dec 2022</td> <th>  AIC                </th> <td>-475.203</td>\n",
       "</tr>\n",
       "<tr>\n",
       "  <th>Time:</th>              <td>14:33:30</td>     <th>  BIC                </th> <td>-469.653</td>\n",
       "</tr>\n",
       "<tr>\n",
       "  <th>Sample:</th>                <td>1</td>        <th>  HQIC               </th> <td>-473.115</td>\n",
       "</tr>\n",
       "<tr>\n",
       "  <th></th>                      <td>48</td>        <th>                     </th>     <td> </td>   \n",
       "</tr>\n",
       "</table>\n",
       "<table class=\"simpletable\">\n",
       "<tr>\n",
       "       <td></td>          <th>coef</th>     <th>std err</th>      <th>z</th>      <th>P>|z|</th>  <th>[0.025</th>    <th>0.975]</th>  \n",
       "</tr>\n",
       "<tr>\n",
       "  <th>const</th>       <td>   -0.0014</td> <td>    0.000</td> <td>   -3.931</td> <td> 0.000</td> <td>   -0.002</td> <td>   -0.001</td>\n",
       "</tr>\n",
       "<tr>\n",
       "  <th>all_item.L1</th> <td>    0.2227</td> <td>    0.150</td> <td>    1.487</td> <td> 0.137</td> <td>   -0.071</td> <td>    0.516</td>\n",
       "</tr>\n",
       "</table>\n",
       "<table class=\"simpletable\">\n",
       "<caption>Roots</caption>\n",
       "<tr>\n",
       "    <td></td>   <th>            Real</th>  <th>         Imaginary</th> <th>         Modulus</th>  <th>        Frequency</th>\n",
       "</tr>\n",
       "<tr>\n",
       "  <th>AR.1</th> <td>           4.4897</td> <td>          +0.0000j</td> <td>           4.4897</td> <td>           0.0000</td>\n",
       "</tr>\n",
       "</table>"
      ],
      "text/plain": [
       "<class 'statsmodels.iolib.summary.Summary'>\n",
       "\"\"\"\n",
       "                            AutoReg Model Results                             \n",
       "==============================================================================\n",
       "Dep. Variable:               all_item   No. Observations:                   48\n",
       "Model:                     AutoReg(1)   Log Likelihood                 240.602\n",
       "Method:               Conditional MLE   S.D. of innovations              0.001\n",
       "Date:                Tue, 20 Dec 2022   AIC                           -475.203\n",
       "Time:                        14:33:30   BIC                           -469.653\n",
       "Sample:                             1   HQIC                          -473.115\n",
       "                                   48                                         \n",
       "===============================================================================\n",
       "                  coef    std err          z      P>|z|      [0.025      0.975]\n",
       "-------------------------------------------------------------------------------\n",
       "const          -0.0014      0.000     -3.931      0.000      -0.002      -0.001\n",
       "all_item.L1     0.2227      0.150      1.487      0.137      -0.071       0.516\n",
       "                                    Roots                                    \n",
       "=============================================================================\n",
       "                  Real          Imaginary           Modulus         Frequency\n",
       "-----------------------------------------------------------------------------\n",
       "AR.1            4.4897           +0.0000j            4.4897            0.0000\n",
       "-----------------------------------------------------------------------------\n",
       "\"\"\""
      ]
     },
     "execution_count": 226,
     "metadata": {},
     "output_type": "execute_result"
    }
   ],
   "source": [
    "ar_model.summary()"
   ]
  },
  {
   "cell_type": "code",
   "execution_count": 227,
   "id": "7cfefe92",
   "metadata": {},
   "outputs": [
    {
     "name": "stderr",
     "output_type": "stream",
     "text": [
      "/home/alistair/anaconda3/lib/python3.7/site-packages/statsmodels/tsa/base/tsa_model.py:843: ValueWarning: No supported index is available. Prediction results will be given with an integer index beginning at `start`.\n",
      "  data=self.data,\n",
      "/home/alistair/anaconda3/lib/python3.7/site-packages/statsmodels/tsa/deterministic.py:302: UserWarning: Only PeriodIndexes, DatetimeIndexes with a frequency set, RangesIndexes, and Index with a unit increment support extending. The index is set will contain the position relative to the data length.\n",
      "  fcast_index = self._extend_index(index, steps, forecast_index)\n"
     ]
    }
   ],
   "source": [
    "pred = ar_model.predict(start=len(train_series), end=len(train_series)+len(test_series))"
   ]
  },
  {
   "cell_type": "code",
   "execution_count": 228,
   "id": "e3c1b797",
   "metadata": {},
   "outputs": [
    {
     "data": {
      "text/plain": [
       "array([-0.0010651 , -0.0015987 , -0.00171754, -0.00174401, -0.00174991,\n",
       "       -0.00175122, -0.00175152, -0.00175158, -0.0017516 , -0.0017516 ,\n",
       "       -0.0017516 ])"
      ]
     },
     "execution_count": 228,
     "metadata": {},
     "output_type": "execute_result"
    }
   ],
   "source": [
    "pred.values"
   ]
  },
  {
   "cell_type": "code",
   "execution_count": 229,
   "id": "31f0eee8",
   "metadata": {},
   "outputs": [
    {
     "data": {
      "text/plain": [
       "dates\n",
       "2020-10-01   -0.001416\n",
       "2020-09-01   -0.000622\n",
       "2020-08-01   -0.002347\n",
       "2020-07-01   -0.004003\n",
       "2020-06-01   -0.005142\n",
       "2020-05-01   -0.004961\n",
       "2020-04-01    0.000586\n",
       "2020-03-01    0.008054\n",
       "2020-02-01    0.003256\n",
       "2020-01-01   -0.001256\n",
       "Name: all_item, dtype: float64"
      ]
     },
     "execution_count": 229,
     "metadata": {},
     "output_type": "execute_result"
    }
   ],
   "source": [
    "test_series"
   ]
  },
  {
   "cell_type": "code",
   "execution_count": 230,
   "id": "bbe2af22",
   "metadata": {},
   "outputs": [],
   "source": [
    "import pandas as pd\n",
    "fcast_df = pd.DataFrame(data=pred.values[1:], index=test_series.index)"
   ]
  },
  {
   "cell_type": "code",
   "execution_count": 231,
   "id": "25b56606",
   "metadata": {},
   "outputs": [],
   "source": [
    "fcast_df = pd.merge(pd.DataFrame(test_series),fcast_df, left_index=True, right_index=True)"
   ]
  },
  {
   "cell_type": "code",
   "execution_count": 232,
   "id": "66e7ae56",
   "metadata": {},
   "outputs": [
    {
     "data": {
      "text/html": [
       "<div>\n",
       "<style scoped>\n",
       "    .dataframe tbody tr th:only-of-type {\n",
       "        vertical-align: middle;\n",
       "    }\n",
       "\n",
       "    .dataframe tbody tr th {\n",
       "        vertical-align: top;\n",
       "    }\n",
       "\n",
       "    .dataframe thead th {\n",
       "        text-align: right;\n",
       "    }\n",
       "</style>\n",
       "<table border=\"1\" class=\"dataframe\">\n",
       "  <thead>\n",
       "    <tr style=\"text-align: right;\">\n",
       "      <th></th>\n",
       "      <th>all_item</th>\n",
       "      <th>0</th>\n",
       "    </tr>\n",
       "    <tr>\n",
       "      <th>dates</th>\n",
       "      <th></th>\n",
       "      <th></th>\n",
       "    </tr>\n",
       "  </thead>\n",
       "  <tbody>\n",
       "    <tr>\n",
       "      <th>2020-10-01</th>\n",
       "      <td>-0.001416</td>\n",
       "      <td>-0.001599</td>\n",
       "    </tr>\n",
       "    <tr>\n",
       "      <th>2020-09-01</th>\n",
       "      <td>-0.000622</td>\n",
       "      <td>-0.001718</td>\n",
       "    </tr>\n",
       "    <tr>\n",
       "      <th>2020-08-01</th>\n",
       "      <td>-0.002347</td>\n",
       "      <td>-0.001744</td>\n",
       "    </tr>\n",
       "    <tr>\n",
       "      <th>2020-07-01</th>\n",
       "      <td>-0.004003</td>\n",
       "      <td>-0.001750</td>\n",
       "    </tr>\n",
       "    <tr>\n",
       "      <th>2020-06-01</th>\n",
       "      <td>-0.005142</td>\n",
       "      <td>-0.001751</td>\n",
       "    </tr>\n",
       "    <tr>\n",
       "      <th>2020-05-01</th>\n",
       "      <td>-0.004961</td>\n",
       "      <td>-0.001752</td>\n",
       "    </tr>\n",
       "    <tr>\n",
       "      <th>2020-04-01</th>\n",
       "      <td>0.000586</td>\n",
       "      <td>-0.001752</td>\n",
       "    </tr>\n",
       "    <tr>\n",
       "      <th>2020-03-01</th>\n",
       "      <td>0.008054</td>\n",
       "      <td>-0.001752</td>\n",
       "    </tr>\n",
       "    <tr>\n",
       "      <th>2020-02-01</th>\n",
       "      <td>0.003256</td>\n",
       "      <td>-0.001752</td>\n",
       "    </tr>\n",
       "    <tr>\n",
       "      <th>2020-01-01</th>\n",
       "      <td>-0.001256</td>\n",
       "      <td>-0.001752</td>\n",
       "    </tr>\n",
       "  </tbody>\n",
       "</table>\n",
       "</div>"
      ],
      "text/plain": [
       "            all_item         0\n",
       "dates                         \n",
       "2020-10-01 -0.001416 -0.001599\n",
       "2020-09-01 -0.000622 -0.001718\n",
       "2020-08-01 -0.002347 -0.001744\n",
       "2020-07-01 -0.004003 -0.001750\n",
       "2020-06-01 -0.005142 -0.001751\n",
       "2020-05-01 -0.004961 -0.001752\n",
       "2020-04-01  0.000586 -0.001752\n",
       "2020-03-01  0.008054 -0.001752\n",
       "2020-02-01  0.003256 -0.001752\n",
       "2020-01-01 -0.001256 -0.001752"
      ]
     },
     "execution_count": 232,
     "metadata": {},
     "output_type": "execute_result"
    }
   ],
   "source": [
    "fcast_df"
   ]
  },
  {
   "cell_type": "code",
   "execution_count": 233,
   "id": "350ada10",
   "metadata": {},
   "outputs": [
    {
     "data": {
      "text/plain": [
       "[<matplotlib.lines.Line2D at 0x7f6a1ac00d90>,\n",
       " <matplotlib.lines.Line2D at 0x7f6a1ac00c90>]"
      ]
     },
     "execution_count": 233,
     "metadata": {},
     "output_type": "execute_result"
    },
    {
     "data": {
      "image/png": "[encoded data removed]",
      "text/plain": [
       "<Figure size 640x480 with 1 Axes>"
      ]
     },
     "metadata": {},
     "output_type": "display_data"
    }
   ],
   "source": [
    "pyplot.plot(fcast_df)"
   ]
  }
 ],
 "metadata": {
  "kernelspec": {
   "display_name": "Python 3 (ipykernel)",
   "language": "python",
   "name": "python3"
  },
  "language_info": {
   "codemirror_mode": {
    "name": "ipython",
    "version": 3
   },
   "file_extension": ".py",
   "mimetype": "text/x-python",
   "name": "python",
   "nbconvert_exporter": "python",
   "pygments_lexer": "ipython3",
   "version": "3.7.4"
  }
 },
 "nbformat": 4,
 "nbformat_minor": 5
}
